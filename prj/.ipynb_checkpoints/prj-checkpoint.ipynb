{
 "cells": [
  {
   "cell_type": "code",
   "execution_count": 1,
   "metadata": {
    "scrolled": true
   },
   "outputs": [
    {
     "name": "stdout",
     "output_type": "stream",
     "text": [
      "Requirement already satisfied: fake_useragent in /Users/andreyryabov/opt/anaconda3/envs/otus_ml/lib/python3.6/site-packages (0.1.11)\r\n"
     ]
    }
   ],
   "source": [
    "!pip install fake_useragent"
   ]
  },
  {
   "cell_type": "code",
   "execution_count": null,
   "metadata": {},
   "outputs": [],
   "source": [
    "!pip install peewee"
   ]
  },
  {
   "cell_type": "code",
   "execution_count": 3,
   "metadata": {},
   "outputs": [],
   "source": [
    "import requests\n",
    "import re\n",
    "from bs4 import BeautifulSoup\n",
    "import pandas as pd\n",
    "import time\n",
    "import sys\n",
    "from tqdm import tqdm_notebook\n",
    "from fake_useragent import UserAgent\n",
    "import json\n",
    "from peewee import *\n",
    "import datetime\n",
    "import sys\n",
    "import os"
   ]
  },
  {
   "cell_type": "code",
   "execution_count": 4,
   "metadata": {},
   "outputs": [],
   "source": [
    "database = SqliteDatabase('2ch.db')\n",
    "\n",
    "class BaseModel(Model):\n",
    "    class Meta:\n",
    "        database = database\n",
    "\n",
    "class Board(BaseModel):\n",
    "    key = CharField(primary_key=True)\n",
    "        \n",
    "class Icon(BaseModel):\n",
    "    name = CharField()\n",
    "    num = IntegerField(primary_key=True)\n",
    "    board = ForeignKeyField(Board, backref='icons')\n",
    "    \n",
    "class Thread(BaseModel):\n",
    "    num=IntegerField(primary_key=True)\n",
    "    subject=CharField()\n",
    "    board = ForeignKeyField(Board, backref='threads')\n",
    "    \n",
    "class Post(BaseModel):\n",
    "    num=IntegerField(primary_key=True)\n",
    "    name=CharField()\n",
    "    comment=CharField()\n",
    "    number=IntegerField()\n",
    "    timestamp=TimestampField()\n",
    "    thread=ForeignKeyField(Thread, backref='posts')\n",
    "\n",
    "class File(BaseModel):\n",
    "    fullname=CharField()\n",
    "    md5=CharField(primary_key=True)\n",
    "    path=CharField()\n",
    "    post=ForeignKeyField(Post, backref='files')\n",
    "    \n",
    "class Like(BaseModel):\n",
    "    post=ForeignKeyField(Post, backref='likes')\n",
    "    likes=IntegerField()\n",
    "    dislikes=IntegerField()\n",
    "    date=TimestampField()\n",
    "    \n",
    "database.connect()\n",
    "database.create_tables([Board, Icon, Thread, Post, File, Like])"
   ]
  },
  {
   "cell_type": "code",
   "execution_count": 5,
   "metadata": {},
   "outputs": [
    {
     "ename": "KeyboardInterrupt",
     "evalue": "",
     "output_type": "error",
     "traceback": [
      "\u001b[0;31m---------------------------------------------------------------------------\u001b[0m",
      "\u001b[0;31mKeyboardInterrupt\u001b[0m                         Traceback (most recent call last)",
      "\u001b[0;32m<ipython-input-5-5307b5ebad35>\u001b[0m in \u001b[0;36m<module>\u001b[0;34m\u001b[0m\n\u001b[1;32m     59\u001b[0m \u001b[0;32mwhile\u001b[0m \u001b[0;32mTrue\u001b[0m\u001b[0;34m:\u001b[0m\u001b[0;34m\u001b[0m\u001b[0;34m\u001b[0m\u001b[0m\n\u001b[1;32m     60\u001b[0m     \u001b[0mcatalog_json\u001b[0m \u001b[0;34m=\u001b[0m \u001b[0mrequests\u001b[0m\u001b[0;34m.\u001b[0m\u001b[0mget\u001b[0m\u001b[0;34m(\u001b[0m\u001b[0mthread_catalog_url\u001b[0m\u001b[0;34m,\u001b[0m \u001b[0mheaders\u001b[0m\u001b[0;34m=\u001b[0m\u001b[0;34m{\u001b[0m\u001b[0;34m'User-Agent'\u001b[0m\u001b[0;34m:\u001b[0m \u001b[0mUserAgent\u001b[0m\u001b[0;34m(\u001b[0m\u001b[0;34m)\u001b[0m\u001b[0;34m.\u001b[0m\u001b[0mchrome\u001b[0m\u001b[0;34m}\u001b[0m\u001b[0;34m)\u001b[0m\u001b[0;34m\u001b[0m\u001b[0;34m\u001b[0m\u001b[0m\n\u001b[0;32m---> 61\u001b[0;31m     \u001b[0msave_board\u001b[0m\u001b[0;34m(\u001b[0m\u001b[0mcatalog_json\u001b[0m\u001b[0;34m.\u001b[0m\u001b[0mjson\u001b[0m\u001b[0;34m(\u001b[0m\u001b[0;34m)\u001b[0m\u001b[0;34m)\u001b[0m\u001b[0;34m\u001b[0m\u001b[0;34m\u001b[0m\u001b[0m\n\u001b[0m\u001b[1;32m     62\u001b[0m     \u001b[0mtime\u001b[0m\u001b[0;34m.\u001b[0m\u001b[0msleep\u001b[0m\u001b[0;34m(\u001b[0m\u001b[0;36m5\u001b[0m \u001b[0;34m*\u001b[0m \u001b[0;36m60\u001b[0m\u001b[0;34m)\u001b[0m\u001b[0;34m\u001b[0m\u001b[0;34m\u001b[0m\u001b[0m\n",
      "\u001b[0;32m<ipython-input-5-5307b5ebad35>\u001b[0m in \u001b[0;36msave_board\u001b[0;34m(board)\u001b[0m\n\u001b[1;32m     17\u001b[0m                 \u001b[0;32mpass\u001b[0m\u001b[0;34m\u001b[0m\u001b[0;34m\u001b[0m\u001b[0m\n\u001b[1;32m     18\u001b[0m         \u001b[0;32mfor\u001b[0m \u001b[0mthread\u001b[0m \u001b[0;32min\u001b[0m \u001b[0mboard\u001b[0m\u001b[0;34m[\u001b[0m\u001b[0;34m'threads'\u001b[0m\u001b[0;34m]\u001b[0m\u001b[0;34m:\u001b[0m\u001b[0;34m\u001b[0m\u001b[0;34m\u001b[0m\u001b[0m\n\u001b[0;32m---> 19\u001b[0;31m             \u001b[0mtime\u001b[0m\u001b[0;34m.\u001b[0m\u001b[0msleep\u001b[0m\u001b[0;34m(\u001b[0m\u001b[0;36m0.3\u001b[0m\u001b[0;34m)\u001b[0m\u001b[0;34m\u001b[0m\u001b[0;34m\u001b[0m\u001b[0m\n\u001b[0m\u001b[1;32m     20\u001b[0m             \u001b[0;32mtry\u001b[0m\u001b[0;34m:\u001b[0m\u001b[0;34m\u001b[0m\u001b[0;34m\u001b[0m\u001b[0m\n\u001b[1;32m     21\u001b[0m                 t = Thread.create(\n",
      "\u001b[0;31mKeyboardInterrupt\u001b[0m: "
     ]
    }
   ],
   "source": [
    "def save_board(board):\n",
    "    with database.atomic():\n",
    "        try:\n",
    "            b = Board.create(\n",
    "                key=board['Board']\n",
    "            )\n",
    "        except:\n",
    "            b = Board.select().where(Board.key == board['Board'])[0]\n",
    "        for icon in board['icons']:\n",
    "            try:\n",
    "                Icon.create(\n",
    "                    name=icon['name'],\n",
    "                    num=icon['num'],\n",
    "                    board=b\n",
    "                )\n",
    "            except:\n",
    "                pass\n",
    "        for thread in board['threads']:\n",
    "            time.sleep(0.3)\n",
    "            try:\n",
    "                t = Thread.create(\n",
    "                    num=thread['num'],\n",
    "                    subject=thread['subject'],\n",
    "                    board = b\n",
    "                )\n",
    "            except:\n",
    "                t = Thread.select().where(Thread.num == thread['num'])[0]\n",
    "            thread_json = requests.get(f'https://2ch.hk/po/res/{t.num}.json', headers={'User-Agent': UserAgent().chrome})\n",
    "            if thread_json.status_code == 200:\n",
    "                for post in tqdm_thread_json.json()['threads'][0]['posts']:\n",
    "                    try:\n",
    "                        p = Post.create(\n",
    "                            num=post['num'],\n",
    "                            name=post['name'],\n",
    "                            comment=post['comment'],\n",
    "                            number=post['number'],\n",
    "                            timestamp=post['timestamp'],\n",
    "                            thread = t\n",
    "                        )\n",
    "                    except:\n",
    "                        p = Post.select().where(Post.num == post['num'])\n",
    "                    Like.create(\n",
    "                        post=p,\n",
    "                        likes=post['likes'],\n",
    "                        dislikes=post['dislikes']\n",
    "                    )\n",
    "                    for f in post['files']:\n",
    "                        try:\n",
    "                            File.create(\n",
    "                                fullname=f['fullname'],\n",
    "                                md5=f['md5'],\n",
    "                                path=f['path'],\n",
    "                                post = p\n",
    "                            )\n",
    "                        except:\n",
    "                            pass                    \n",
    "                \n",
    "thread_catalog_url = 'https://2ch.hk/po/catalog.json'\n",
    "while True:\n",
    "    catalog_json = requests.get(thread_catalog_url, headers={'User-Agent': UserAgent().chrome})\n",
    "    save_board(catalog_json.json())\n",
    "    time.sleep(5 * 60)\n"
   ]
  },
  {
   "cell_type": "code",
   "execution_count": null,
   "metadata": {},
   "outputs": [],
   "source": []
  },
  {
   "cell_type": "code",
   "execution_count": null,
   "metadata": {},
   "outputs": [],
   "source": []
  }
 ],
 "metadata": {
  "kernelspec": {
   "display_name": "Python 3",
   "language": "python",
   "name": "python3"
  },
  "language_info": {
   "codemirror_mode": {
    "name": "ipython",
    "version": 3
   },
   "file_extension": ".py",
   "mimetype": "text/x-python",
   "name": "python",
   "nbconvert_exporter": "python",
   "pygments_lexer": "ipython3",
   "version": "3.6.10"
  }
 },
 "nbformat": 4,
 "nbformat_minor": 4
}
